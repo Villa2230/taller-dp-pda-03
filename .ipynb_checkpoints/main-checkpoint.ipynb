{
 "cells": [
  {
   "cell_type": "markdown",
   "metadata": {},
   "source": [
    "# main.ipynb"
   ]
  },
  {
   "cell_type": "markdown",
   "metadata": {},
   "source": [
    "## modules"
   ]
  },
  {
   "cell_type": "markdown",
   "metadata": {},
   "source": [
    "### common"
   ]
  },
  {
   "cell_type": "code",
   "execution_count": 1,
   "metadata": {},
   "outputs": [],
   "source": [
    "import os\n",
    "import shutil\n",
    "import json\n",
    "from uuid import uuid4\n",
    "from pathlib import Path"
   ]
  },
  {
   "cell_type": "markdown",
   "metadata": {},
   "source": [
    "### requirements"
   ]
  },
  {
   "cell_type": "code",
   "execution_count": 2,
   "metadata": {},
   "outputs": [],
   "source": [
    "import requests\n",
    "import pendulum\n",
    "import pandas as pd\n",
    "import fire"
   ]
  },
  {
   "cell_type": "markdown",
   "metadata": {},
   "source": [
    "## 1. pendulum"
   ]
  },
  {
   "cell_type": "code",
   "execution_count": null,
   "metadata": {},
   "outputs": [],
   "source": [
    "# > variables\n",
    "region_city: str = 'America/Lima'"
   ]
  },
  {
   "cell_type": "code",
   "execution_count": null,
   "metadata": {},
   "outputs": [],
   "source": [
    "c_date = pendulum.now(rc := region_city).to_date_string()\n",
    "\n",
    "print(c_date, '---', rc)"
   ]
  },
  {
   "cell_type": "markdown",
   "metadata": {},
   "source": [
    "## 2. requests"
   ]
  },
  {
   "cell_type": "code",
   "execution_count": null,
   "metadata": {},
   "outputs": [],
   "source": [
    "# > variables\n",
    "serie = 'PM04902AA'\n",
    "api_url = f'https://estadisticas.bcrp.gob.pe/estadisticas/series/api/{serie}/json/2020/2022/'\n",
    "headers = {'Content-Type': 'application/json'}"
   ]
  },
  {
   "cell_type": "code",
   "execution_count": null,
   "metadata": {},
   "outputs": [],
   "source": [
    "# > request + try-except\n",
    "try:\n",
    "    response = requests.get(url=api_url, headers=headers, timeout=60)\n",
    "    response.encoding = 'utf-8'\n",
    "    api_data = json.loads(response.text)\n",
    "except Exception as e:\n",
    "    print('[INFO] something went wrong...')\n",
    "    raise"
   ]
  },
  {
   "cell_type": "code",
   "execution_count": null,
   "metadata": {},
   "outputs": [],
   "source": [
    "print(json.dumps(api_data, indent=2))"
   ]
  },
  {
   "cell_type": "markdown",
   "metadata": {},
   "source": [
    "## 3. pandas: dataframes"
   ]
  },
  {
   "cell_type": "code",
   "execution_count": null,
   "metadata": {},
   "outputs": [],
   "source": [
    "# > variables\n",
    "record_path = 'periods'\n",
    "columnas = {'name': 'YEAR', 'values': serie.upper()}"
   ]
  },
  {
   "cell_type": "code",
   "execution_count": null,
   "metadata": {},
   "outputs": [],
   "source": [
    "# > pandas from json\n",
    "df = pd.json_normalize(api_data, record_path=record_path)\n",
    "\n",
    "df.head()"
   ]
  },
  {
   "cell_type": "code",
   "execution_count": null,
   "metadata": {},
   "outputs": [],
   "source": [
    "# > pandas rename column\n",
    "df = df.rename(columns=columnas)\n",
    "\n",
    "df.head()"
   ]
  },
  {
   "cell_type": "code",
   "execution_count": null,
   "metadata": {},
   "outputs": [],
   "source": [
    "# > pandas format\n",
    "df[serie] = df[serie].str[0].astype('float')\n",
    "\n",
    "df.head()"
   ]
  },
  {
   "cell_type": "markdown",
   "metadata": {},
   "source": [
    "## 4. pandas: exporting data"
   ]
  },
  {
   "cell_type": "code",
   "execution_count": null,
   "metadata": {},
   "outputs": [],
   "source": [
    "# > variables\n",
    "curr_date = c_date\n",
    "exec_uuid = str(uuid4())\n",
    "s = serie\n",
    "\n",
    "save_path = f'./data/current/{curr_date}/{exec_uuid}/{s}.csv'\n",
    "\n",
    "print(save_path)"
   ]
  },
  {
   "cell_type": "code",
   "execution_count": null,
   "metadata": {},
   "outputs": [],
   "source": [
    "# > split save path\n",
    "save_folder = '/'.join(save_path.split('/')[:-1])\n",
    "\n",
    "print(save_folder)"
   ]
  },
  {
   "cell_type": "code",
   "execution_count": null,
   "metadata": {},
   "outputs": [],
   "source": [
    "# > make save directory if not exists\n",
    "Path(save_folder).mkdir(parents=True, exist_ok=True)"
   ]
  },
  {
   "cell_type": "code",
   "execution_count": null,
   "metadata": {},
   "outputs": [],
   "source": [
    "# > export data from dataframe to csv\n",
    "dfc = df.copy(deep=True)\n",
    "dfc.to_csv(save_path, sep=';', encoding='iso-8859-1', index=False)"
   ]
  },
  {
   "cell_type": "markdown",
   "metadata": {},
   "source": [
    "## 5. main scenario"
   ]
  },
  {
   "cell_type": "markdown",
   "metadata": {},
   "source": [
    "### 5.1. multiple solicitudes"
   ]
  },
  {
   "cell_type": "code",
   "execution_count": null,
   "metadata": {},
   "outputs": [],
   "source": [
    "# > fixed\n",
    "series = ['PM04901AA', 'PM04902AA', 'PM04903AA', 'PM04904AA', 'PM04905AA', 'PM04906AA', 'PM04907AA']\n",
    "exec_uuid = str(uuid4())\n",
    "\n",
    "for serie in series:\n",
    "    # > variables\n",
    "    api_url = f'https://estadisticas.bcrp.gob.pe/estadisticas/series/api/{serie}/json/2020/2022/'\n",
    "    headers = {'Content-Type': 'application/json'}\n",
    "    \n",
    "    # > request + try-except\n",
    "    try:\n",
    "        response = requests.get(url=api_url, headers=headers, timeout=60)\n",
    "        response.encoding = 'utf-8'\n",
    "        api_data = json.loads(response.text)\n",
    "    except Exception as e:\n",
    "        print('[INFO] something went wrong...')\n",
    "        raise\n",
    "    \n",
    "    # > variables\n",
    "    record_path = 'periods'\n",
    "    columnas = {'name': 'YEAR', 'values': serie.upper()}\n",
    "    \n",
    "    # > pandas from json\n",
    "    df = pd.json_normalize(api_data, record_path=record_path)\n",
    "    df = df.rename(columns=columnas)\n",
    "    df[serie] = df[serie].str[0].astype('float')\n",
    "    \n",
    "    # > variables\n",
    "    curr_date = c_date\n",
    "    s = serie\n",
    "    save_path = f'./data/current/{curr_date}/{exec_uuid}/{s}.csv'\n",
    "    \n",
    "    # > split save path\n",
    "    save_folder = '/'.join(save_path.split('/')[:-1])\n",
    "    \n",
    "    # > make save directory if not exists\n",
    "    Path(save_folder).mkdir(parents=True, exist_ok=True)\n",
    "    \n",
    "    # > export data from dataframe to csv\n",
    "    dfc = df.copy(deep=True)\n",
    "    dfc.to_csv(save_path, sep=';', encoding='iso-8859-1', index=False)"
   ]
  },
  {
   "cell_type": "markdown",
   "metadata": {},
   "source": [
    "### 5.2. dataframe auxiliar"
   ]
  },
  {
   "cell_type": "code",
   "execution_count": null,
   "metadata": {},
   "outputs": [],
   "source": [
    "# > variables\n",
    "curr_date = c_date ; year = curr_date.split('-')[0]\n",
    "read_path = '/'.join(save_path.split('/')[:-1])"
   ]
  },
  {
   "cell_type": "code",
   "execution_count": null,
   "metadata": {},
   "outputs": [],
   "source": [
    "# > dataframe dummy\n",
    "tdf = pd.DataFrame({'YEAR': range(1940, int(year)+1), 'LOAD_DATE': curr_date})\n",
    "tdf = tdf.set_index('YEAR')\n",
    "\n",
    "tdf.head()"
   ]
  },
  {
   "cell_type": "code",
   "execution_count": null,
   "metadata": {},
   "outputs": [],
   "source": [
    "# > elementos a juntar\n",
    "files = os.listdir(read_path)\n",
    "for f in files:\n",
    "    print(f)"
   ]
  },
  {
   "cell_type": "code",
   "execution_count": null,
   "metadata": {},
   "outputs": [],
   "source": [
    "# > complete table\n",
    "files = os.listdir(read_path)\n",
    "for f in files:\n",
    "    df = pd.read_csv(f'{read_path}/{f}', sep=';', encoding='iso-8859-1')\n",
    "    df = df.set_index('YEAR')\n",
    "    tdf = tdf.join(df)"
   ]
  },
  {
   "cell_type": "code",
   "execution_count": null,
   "metadata": {},
   "outputs": [],
   "source": [
    "# > nulos por dummy table\n",
    "print(tdf.isna().sum())\n",
    "tdf.head()"
   ]
  },
  {
   "cell_type": "code",
   "execution_count": null,
   "metadata": {},
   "outputs": [],
   "source": [
    "# > reset index + drop nulos\n",
    "tdf = tdf.reset_index()\n",
    "tdf = tdf.dropna(subset=tdf.columns[2:])"
   ]
  },
  {
   "cell_type": "code",
   "execution_count": null,
   "metadata": {},
   "outputs": [],
   "source": [
    "# > output\n",
    "print(tdf.isna().sum())\n",
    "tdf.head()"
   ]
  },
  {
   "cell_type": "markdown",
   "metadata": {},
   "source": [
    "### 5.3. exportar datos"
   ]
  },
  {
   "cell_type": "code",
   "execution_count": null,
   "metadata": {},
   "outputs": [],
   "source": [
    "# > variables\n",
    "export_path = f'./data/output/{curr_date}/output_{exec_uuid}.csv'\n",
    "save_folder = '/'.join(export_path.split('/')[:-1])\n",
    "sep = '|'\n",
    "encoding='iso-8859-1'"
   ]
  },
  {
   "cell_type": "code",
   "execution_count": null,
   "metadata": {},
   "outputs": [],
   "source": [
    "# > export full table\n",
    "Path(save_folder).mkdir(parents=True, exist_ok=True)\n",
    "df.to_csv(export_path, sep=sep, encoding=encoding, index=False)"
   ]
  },
  {
   "cell_type": "code",
   "execution_count": null,
   "metadata": {},
   "outputs": [],
   "source": [
    "# > move current to historic\n",
    "current_path = read_path\n",
    "historic_path = read_path.replace('current', 'historic')\n",
    "shutil.move(current_path, historic_path)"
   ]
  },
  {
   "cell_type": "code",
   "execution_count": null,
   "metadata": {},
   "outputs": [],
   "source": []
  }
 ],
 "metadata": {
  "interpreter": {
   "hash": "0d24f6c4d3e56b3cfda2eb0216e9cf75edcc90598732a5fefacbf5cbcdb25b14"
  },
  "kernelspec": {
   "display_name": "Python 3 (ipykernel)",
   "language": "python",
   "name": "python3"
  },
  "language_info": {
   "codemirror_mode": {
    "name": "ipython",
    "version": 3
   },
   "file_extension": ".py",
   "mimetype": "text/x-python",
   "name": "python",
   "nbconvert_exporter": "python",
   "pygments_lexer": "ipython3",
   "version": "3.9.12"
  }
 },
 "nbformat": 4,
 "nbformat_minor": 2
}
