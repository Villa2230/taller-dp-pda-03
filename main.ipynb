{
 "cells": [
  {
   "cell_type": "markdown",
   "metadata": {},
   "source": [
    "# main.ipynb"
   ]
  },
  {
   "cell_type": "markdown",
   "metadata": {},
   "source": [
    "## modules"
   ]
  },
  {
   "cell_type": "markdown",
   "metadata": {},
   "source": [
    "### common"
   ]
  },
  {
   "cell_type": "code",
   "execution_count": 1,
   "metadata": {},
   "outputs": [],
   "source": [
    "# Trabaja con ficheros y carpetas\n",
    "import os\n",
    "# Ofrece operaciones de alto nivel en archivos\n",
    "import shutil\n",
    "# Trabaja con datos de API .json\n",
    "import json\n",
    "# Implementa identificadores únicos de recursos\n",
    "from uuid import uuid4\n",
    "# Permite crear carpetas y rutas\n",
    "from pathlib import Path"
   ]
  },
  {
   "cell_type": "markdown",
   "metadata": {},
   "source": [
    "### requirements"
   ]
  },
  {
   "cell_type": "code",
   "execution_count": 2,
   "metadata": {},
   "outputs": [],
   "source": [
    "# Permite realizar operaciones REST con las API´s\n",
    "import requests\n",
    "# Facilita la manipulación de DateTime\n",
    "import pendulum\n",
    "# Manejo y análisis de estructuras de datos\n",
    "import pandas as pd\n",
    "#\n",
    "import fire"
   ]
  },
  {
   "cell_type": "markdown",
   "metadata": {},
   "source": [
    "## 1. pendulum"
   ]
  },
  {
   "cell_type": "code",
   "execution_count": 3,
   "metadata": {},
   "outputs": [],
   "source": [
    "# > variables\n",
    "# Almacena la regíon y la capital de la fecha que quiero saber\n",
    "region_city: str = 'America/Lima'"
   ]
  },
  {
   "cell_type": "code",
   "execution_count": 4,
   "metadata": {},
   "outputs": [
    {
     "name": "stdout",
     "output_type": "stream",
     "text": [
      "2022-06-04 --- America/Lima\n"
     ]
    }
   ],
   "source": [
    "# Usamos pendulum para obtener la fecha de la region almacenada\n",
    "c_date = pendulum.now(rc := region_city).to_date_string()\n",
    "\n",
    "print(c_date, '---', rc)"
   ]
  },
  {
   "cell_type": "markdown",
   "metadata": {},
   "source": [
    "## 2. requests"
   ]
  },
  {
   "cell_type": "code",
   "execution_count": 5,
   "metadata": {},
   "outputs": [],
   "source": [
    "# > variables\n",
    "# Numero de serie\n",
    "serie = 'PM04902AA'\n",
    "# URL de la API del BCR\n",
    "api_url = f'https://estadisticas.bcrp.gob.pe/estadisticas/series/api/{serie}/json/2020/2022/'\n",
    "# Cabezeras\n",
    "headers = {'Content-Type': 'application/json'}"
   ]
  },
  {
   "cell_type": "code",
   "execution_count": 6,
   "metadata": {},
   "outputs": [],
   "source": [
    "# > request + try-except\n",
    "try:\n",
    "    # Realizamos el request a la URL durante 60 segundos\n",
    "    response = requests.get(url=api_url, headers=headers, timeout=60)\n",
    "    # Forzar que el encoding del request sea UTF-8\n",
    "    response.encoding = 'utf-8'\n",
    "    # Transformamos el string del json a diccionario con \".loads\"\n",
    "    api_data = json.loads(response.text)\n",
    "except Exception as e:\n",
    "    print('[INFO] something went wrong...')\n",
    "    # Captura el error \n",
    "    raise"
   ]
  },
  {
   "cell_type": "code",
   "execution_count": 7,
   "metadata": {},
   "outputs": [
    {
     "name": "stdout",
     "output_type": "stream",
     "text": [
      "{\n",
      "  \"config\": {\n",
      "    \"title\": \"Ingreso nacional disponible (millones S/ 2007)\",\n",
      "    \"series\": [\n",
      "      {\n",
      "        \"name\": \"Ingreso nacional disponible (millones S/ 2007) - Renta de Factores\",\n",
      "        \"dec\": \"0\"\n",
      "      }\n",
      "    ]\n",
      "  },\n",
      "  \"periods\": [\n",
      "    {\n",
      "      \"name\": \"2020\",\n",
      "      \"values\": [\n",
      "        \"-14748.8775165815\"\n",
      "      ]\n",
      "    },\n",
      "    {\n",
      "      \"name\": \"2021\",\n",
      "      \"values\": [\n",
      "        \"-46048.2056891399\"\n",
      "      ]\n",
      "    }\n",
      "  ]\n",
      "}\n"
     ]
    }
   ],
   "source": [
    "print(json.dumps(api_data, indent=2))"
   ]
  },
  {
   "cell_type": "markdown",
   "metadata": {},
   "source": [
    "## 3. pandas: dataframes"
   ]
  },
  {
   "cell_type": "code",
   "execution_count": 8,
   "metadata": {},
   "outputs": [],
   "source": [
    "# > variables\n",
    "# Almacena donde se encuentran los diccionarios de datos\n",
    "record_path = 'periods'\n",
    "# Cambia el nombre de las columnas del json\n",
    "columnas = {'name': 'YEAR', 'values': serie.upper()}"
   ]
  },
  {
   "cell_type": "code",
   "execution_count": 9,
   "metadata": {},
   "outputs": [
    {
     "data": {
      "text/html": [
       "<div>\n",
       "<style scoped>\n",
       "    .dataframe tbody tr th:only-of-type {\n",
       "        vertical-align: middle;\n",
       "    }\n",
       "\n",
       "    .dataframe tbody tr th {\n",
       "        vertical-align: top;\n",
       "    }\n",
       "\n",
       "    .dataframe thead th {\n",
       "        text-align: right;\n",
       "    }\n",
       "</style>\n",
       "<table border=\"1\" class=\"dataframe\">\n",
       "  <thead>\n",
       "    <tr style=\"text-align: right;\">\n",
       "      <th></th>\n",
       "      <th>name</th>\n",
       "      <th>values</th>\n",
       "    </tr>\n",
       "  </thead>\n",
       "  <tbody>\n",
       "    <tr>\n",
       "      <th>0</th>\n",
       "      <td>2020</td>\n",
       "      <td>[-14748.8775165815]</td>\n",
       "    </tr>\n",
       "    <tr>\n",
       "      <th>1</th>\n",
       "      <td>2021</td>\n",
       "      <td>[-46048.2056891399]</td>\n",
       "    </tr>\n",
       "  </tbody>\n",
       "</table>\n",
       "</div>"
      ],
      "text/plain": [
       "   name               values\n",
       "0  2020  [-14748.8775165815]\n",
       "1  2021  [-46048.2056891399]"
      ]
     },
     "execution_count": 9,
     "metadata": {},
     "output_type": "execute_result"
    }
   ],
   "source": [
    "# > pandas from json\n",
    "# Estructuramos los datos obtenidos del API\n",
    "df = pd.json_normalize(api_data, record_path=record_path)\n",
    "# Muestra las columnas\n",
    "df.head()"
   ]
  },
  {
   "cell_type": "code",
   "execution_count": 10,
   "metadata": {},
   "outputs": [
    {
     "data": {
      "text/html": [
       "<div>\n",
       "<style scoped>\n",
       "    .dataframe tbody tr th:only-of-type {\n",
       "        vertical-align: middle;\n",
       "    }\n",
       "\n",
       "    .dataframe tbody tr th {\n",
       "        vertical-align: top;\n",
       "    }\n",
       "\n",
       "    .dataframe thead th {\n",
       "        text-align: right;\n",
       "    }\n",
       "</style>\n",
       "<table border=\"1\" class=\"dataframe\">\n",
       "  <thead>\n",
       "    <tr style=\"text-align: right;\">\n",
       "      <th></th>\n",
       "      <th>YEAR</th>\n",
       "      <th>PM04902AA</th>\n",
       "    </tr>\n",
       "  </thead>\n",
       "  <tbody>\n",
       "    <tr>\n",
       "      <th>0</th>\n",
       "      <td>2020</td>\n",
       "      <td>[-14748.8775165815]</td>\n",
       "    </tr>\n",
       "    <tr>\n",
       "      <th>1</th>\n",
       "      <td>2021</td>\n",
       "      <td>[-46048.2056891399]</td>\n",
       "    </tr>\n",
       "  </tbody>\n",
       "</table>\n",
       "</div>"
      ],
      "text/plain": [
       "   YEAR            PM04902AA\n",
       "0  2020  [-14748.8775165815]\n",
       "1  2021  [-46048.2056891399]"
      ]
     },
     "execution_count": 10,
     "metadata": {},
     "output_type": "execute_result"
    }
   ],
   "source": [
    "# > pandas rename column\n",
    "# Permite renombrar las columnas\n",
    "df = df.rename(columns=columnas)\n",
    "# Mostramos las columnas\n",
    "df.head()"
   ]
  },
  {
   "cell_type": "code",
   "execution_count": 11,
   "metadata": {},
   "outputs": [
    {
     "data": {
      "text/html": [
       "<div>\n",
       "<style scoped>\n",
       "    .dataframe tbody tr th:only-of-type {\n",
       "        vertical-align: middle;\n",
       "    }\n",
       "\n",
       "    .dataframe tbody tr th {\n",
       "        vertical-align: top;\n",
       "    }\n",
       "\n",
       "    .dataframe thead th {\n",
       "        text-align: right;\n",
       "    }\n",
       "</style>\n",
       "<table border=\"1\" class=\"dataframe\">\n",
       "  <thead>\n",
       "    <tr style=\"text-align: right;\">\n",
       "      <th></th>\n",
       "      <th>YEAR</th>\n",
       "      <th>PM04902AA</th>\n",
       "    </tr>\n",
       "  </thead>\n",
       "  <tbody>\n",
       "    <tr>\n",
       "      <th>0</th>\n",
       "      <td>2020</td>\n",
       "      <td>-14748.877517</td>\n",
       "    </tr>\n",
       "    <tr>\n",
       "      <th>1</th>\n",
       "      <td>2021</td>\n",
       "      <td>-46048.205689</td>\n",
       "    </tr>\n",
       "  </tbody>\n",
       "</table>\n",
       "</div>"
      ],
      "text/plain": [
       "   YEAR     PM04902AA\n",
       "0  2020 -14748.877517\n",
       "1  2021 -46048.205689"
      ]
     },
     "execution_count": 11,
     "metadata": {},
     "output_type": "execute_result"
    }
   ],
   "source": [
    "# > pandas format\n",
    "# Obtiene el primer elemento de la lista y lo convierta en \"float\"\n",
    "df[serie] = df[serie].str[0].astype('float')\n",
    "\n",
    "df.head()"
   ]
  },
  {
   "cell_type": "markdown",
   "metadata": {},
   "source": [
    "## 4. pandas: exporting data"
   ]
  },
  {
   "cell_type": "code",
   "execution_count": 12,
   "metadata": {},
   "outputs": [
    {
     "name": "stdout",
     "output_type": "stream",
     "text": [
      "./data/current/2022-06-04/fc29d1fc-99fe-4d0a-a74b-d7375769eba9/PM04902AA.csv\n"
     ]
    }
   ],
   "source": [
    "# > variables\n",
    "# Guardamos la fecha en una nueva variable\n",
    "curr_date = c_date\n",
    "# Obtenemos un identificador unico en una variable\n",
    "exec_uuid = str(uuid4())\n",
    "# Guardamos la serie en una nueva variable\n",
    "s = serie\n",
    "# Almacenamos el path donde se almacenara los archivos .csv\n",
    "save_path = f'./data/current/{curr_date}/{exec_uuid}/{s}.csv'\n",
    "# Mostramos el path\n",
    "print(save_path)"
   ]
  },
  {
   "cell_type": "code",
   "execution_count": 14,
   "metadata": {},
   "outputs": [
    {
     "name": "stdout",
     "output_type": "stream",
     "text": [
      "./data/current/2022-06-04/fc29d1fc-99fe-4d0a-a74b-d7375769eba9\n"
     ]
    }
   ],
   "source": [
    "# > split save path\n",
    "# Usamos .split para separar el path por '/' y muestra todos los elementos menos el ultimo\n",
    "# Y los unes con un '/'\n",
    "save_folder = '/'.join(save_path.split('/')[:-1])\n",
    "# Muestra la nueva ruta\n",
    "print(save_folder)"
   ]
  },
  {
   "cell_type": "code",
   "execution_count": 15,
   "metadata": {},
   "outputs": [],
   "source": [
    "# > make save directory if not exists\n",
    "Path(save_folder).mkdir(parents=True, exist_ok=True)"
   ]
  },
  {
   "cell_type": "code",
   "execution_count": 16,
   "metadata": {},
   "outputs": [],
   "source": [
    "# > export data from dataframe to csv\n",
    "# Almacenamos una copia del data frame\n",
    "dfc = df.copy(deep=True)\n",
    "# Convertimos la copia del data frame en archivo .csv (index=false no traslada los indices del dataframe)\n",
    "dfc.to_csv(save_path, sep=';', encoding='iso-8859-1', index=False)"
   ]
  },
  {
   "cell_type": "markdown",
   "metadata": {},
   "source": [
    "## 5. main scenario"
   ]
  },
  {
   "cell_type": "markdown",
   "metadata": {},
   "source": [
    "### 5.1. multiple solicitudes"
   ]
  },
  {
   "cell_type": "code",
   "execution_count": 31,
   "metadata": {},
   "outputs": [],
   "source": [
    "# > fixed\n",
    "series = ['PM04901AA', 'PM04902AA', 'PM04903AA', 'PM04904AA', 'PM04905AA', 'PM04906AA', 'PM04907AA']\n",
    "exec_uuid = str(uuid4())\n",
    "\n",
    "for serie in series:\n",
    "    # > variables\n",
    "    api_url = f'https://estadisticas.bcrp.gob.pe/estadisticas/series/api/{serie}/json/2020/2022/'\n",
    "    headers = {'Content-Type': 'application/json'}\n",
    "    \n",
    "    # > request + try-except\n",
    "    try:\n",
    "        response = requests.get(url=api_url, headers=headers, timeout=60)\n",
    "        response.encoding = 'utf-8'\n",
    "        api_data = json.loads(response.text)\n",
    "    except Exception as e:\n",
    "        print('[INFO] something went wrong...')\n",
    "        raise\n",
    "    \n",
    "    # > variables\n",
    "    record_path = 'periods'\n",
    "    columnas = {'name': 'YEAR', 'values': serie.upper()}\n",
    "    \n",
    "    # > pandas from json\n",
    "    df = pd.json_normalize(api_data, record_path=record_path)\n",
    "    df = df.rename(columns=columnas)\n",
    "    df[serie] = df[serie].str[0].astype('float')\n",
    "    \n",
    "    # > variables\n",
    "    curr_date = c_date\n",
    "    s = serie\n",
    "    save_path = f'./data/current/{curr_date}/{exec_uuid}/{s}.csv'\n",
    "    \n",
    "    # > split save path\n",
    "    save_folder = '/'.join(save_path.split('/')[:-1])\n",
    "    \n",
    "    # > make save directory if not exists\n",
    "    Path(save_folder).mkdir(parents=True, exist_ok=True)\n",
    "    \n",
    "    # > export data from dataframe to csv\n",
    "    dfc = df.copy(deep=True)\n",
    "    dfc.to_csv(save_path, sep=';', encoding='iso-8859-1', index=False)"
   ]
  },
  {
   "cell_type": "markdown",
   "metadata": {},
   "source": [
    "### 5.2. dataframe auxiliar"
   ]
  },
  {
   "cell_type": "code",
   "execution_count": 32,
   "metadata": {},
   "outputs": [],
   "source": [
    "# > variables\n",
    "curr_date = c_date ; year = curr_date.split('-')[0]\n",
    "read_path = '/'.join(save_path.split('/')[:-1])"
   ]
  },
  {
   "cell_type": "code",
   "execution_count": 33,
   "metadata": {},
   "outputs": [
    {
     "data": {
      "text/html": [
       "<div>\n",
       "<style scoped>\n",
       "    .dataframe tbody tr th:only-of-type {\n",
       "        vertical-align: middle;\n",
       "    }\n",
       "\n",
       "    .dataframe tbody tr th {\n",
       "        vertical-align: top;\n",
       "    }\n",
       "\n",
       "    .dataframe thead th {\n",
       "        text-align: right;\n",
       "    }\n",
       "</style>\n",
       "<table border=\"1\" class=\"dataframe\">\n",
       "  <thead>\n",
       "    <tr style=\"text-align: right;\">\n",
       "      <th></th>\n",
       "      <th>LOAD_DATE</th>\n",
       "    </tr>\n",
       "    <tr>\n",
       "      <th>YEAR</th>\n",
       "      <th></th>\n",
       "    </tr>\n",
       "  </thead>\n",
       "  <tbody>\n",
       "    <tr>\n",
       "      <th>1940</th>\n",
       "      <td>2022-06-04</td>\n",
       "    </tr>\n",
       "    <tr>\n",
       "      <th>1941</th>\n",
       "      <td>2022-06-04</td>\n",
       "    </tr>\n",
       "    <tr>\n",
       "      <th>1942</th>\n",
       "      <td>2022-06-04</td>\n",
       "    </tr>\n",
       "    <tr>\n",
       "      <th>1943</th>\n",
       "      <td>2022-06-04</td>\n",
       "    </tr>\n",
       "    <tr>\n",
       "      <th>1944</th>\n",
       "      <td>2022-06-04</td>\n",
       "    </tr>\n",
       "  </tbody>\n",
       "</table>\n",
       "</div>"
      ],
      "text/plain": [
       "       LOAD_DATE\n",
       "YEAR            \n",
       "1940  2022-06-04\n",
       "1941  2022-06-04\n",
       "1942  2022-06-04\n",
       "1943  2022-06-04\n",
       "1944  2022-06-04"
      ]
     },
     "execution_count": 33,
     "metadata": {},
     "output_type": "execute_result"
    }
   ],
   "source": [
    "# > dataframe dummy\n",
    "tdf = pd.DataFrame({'YEAR': range(1940, int(year)+1), 'LOAD_DATE': curr_date})\n",
    "tdf = tdf.set_index('YEAR')\n",
    "\n",
    "tdf.head()"
   ]
  },
  {
   "cell_type": "code",
   "execution_count": 34,
   "metadata": {},
   "outputs": [
    {
     "name": "stdout",
     "output_type": "stream",
     "text": [
      "PM04901AA.csv\n",
      "PM04902AA.csv\n",
      "PM04903AA.csv\n",
      "PM04904AA.csv\n",
      "PM04905AA.csv\n",
      "PM04906AA.csv\n",
      "PM04907AA.csv\n"
     ]
    }
   ],
   "source": [
    "# > elementos a juntar\n",
    "files = os.listdir(read_path)\n",
    "for f in files:\n",
    "    print(f)"
   ]
  },
  {
   "cell_type": "code",
   "execution_count": 35,
   "metadata": {},
   "outputs": [],
   "source": [
    "# > complete table\n",
    "files = os.listdir(read_path)\n",
    "for f in files:\n",
    "    df = pd.read_csv(f'{read_path}/{f}', sep=';', encoding='iso-8859-1')\n",
    "    df = df.set_index('YEAR')\n",
    "    tdf = tdf.join(df)"
   ]
  },
  {
   "cell_type": "code",
   "execution_count": 36,
   "metadata": {},
   "outputs": [
    {
     "name": "stdout",
     "output_type": "stream",
     "text": [
      "LOAD_DATE     0\n",
      "PM04901AA    81\n",
      "PM04902AA    81\n",
      "PM04903AA    81\n",
      "PM04904AA    81\n",
      "PM04905AA    81\n",
      "PM04906AA    81\n",
      "PM04907AA    81\n",
      "dtype: int64\n"
     ]
    },
    {
     "data": {
      "text/html": [
       "<div>\n",
       "<style scoped>\n",
       "    .dataframe tbody tr th:only-of-type {\n",
       "        vertical-align: middle;\n",
       "    }\n",
       "\n",
       "    .dataframe tbody tr th {\n",
       "        vertical-align: top;\n",
       "    }\n",
       "\n",
       "    .dataframe thead th {\n",
       "        text-align: right;\n",
       "    }\n",
       "</style>\n",
       "<table border=\"1\" class=\"dataframe\">\n",
       "  <thead>\n",
       "    <tr style=\"text-align: right;\">\n",
       "      <th></th>\n",
       "      <th>LOAD_DATE</th>\n",
       "      <th>PM04901AA</th>\n",
       "      <th>PM04902AA</th>\n",
       "      <th>PM04903AA</th>\n",
       "      <th>PM04904AA</th>\n",
       "      <th>PM04905AA</th>\n",
       "      <th>PM04906AA</th>\n",
       "      <th>PM04907AA</th>\n",
       "    </tr>\n",
       "    <tr>\n",
       "      <th>YEAR</th>\n",
       "      <th></th>\n",
       "      <th></th>\n",
       "      <th></th>\n",
       "      <th></th>\n",
       "      <th></th>\n",
       "      <th></th>\n",
       "      <th></th>\n",
       "      <th></th>\n",
       "    </tr>\n",
       "  </thead>\n",
       "  <tbody>\n",
       "    <tr>\n",
       "      <th>2018</th>\n",
       "      <td>2022-06-04</td>\n",
       "      <td>NaN</td>\n",
       "      <td>NaN</td>\n",
       "      <td>NaN</td>\n",
       "      <td>NaN</td>\n",
       "      <td>NaN</td>\n",
       "      <td>NaN</td>\n",
       "      <td>NaN</td>\n",
       "    </tr>\n",
       "    <tr>\n",
       "      <th>2019</th>\n",
       "      <td>2022-06-04</td>\n",
       "      <td>NaN</td>\n",
       "      <td>NaN</td>\n",
       "      <td>NaN</td>\n",
       "      <td>NaN</td>\n",
       "      <td>NaN</td>\n",
       "      <td>NaN</td>\n",
       "      <td>NaN</td>\n",
       "    </tr>\n",
       "    <tr>\n",
       "      <th>2020</th>\n",
       "      <td>2022-06-04</td>\n",
       "      <td>486402.086278</td>\n",
       "      <td>-14748.877517</td>\n",
       "      <td>471653.208762</td>\n",
       "      <td>4700.533284</td>\n",
       "      <td>476353.742045</td>\n",
       "      <td>11922.851900</td>\n",
       "      <td>488276.593945</td>\n",
       "    </tr>\n",
       "    <tr>\n",
       "      <th>2021</th>\n",
       "      <td>2022-06-04</td>\n",
       "      <td>551829.119782</td>\n",
       "      <td>-46048.205689</td>\n",
       "      <td>505780.914093</td>\n",
       "      <td>20360.512843</td>\n",
       "      <td>526141.426936</td>\n",
       "      <td>13619.526712</td>\n",
       "      <td>539760.953647</td>\n",
       "    </tr>\n",
       "    <tr>\n",
       "      <th>2022</th>\n",
       "      <td>2022-06-04</td>\n",
       "      <td>NaN</td>\n",
       "      <td>NaN</td>\n",
       "      <td>NaN</td>\n",
       "      <td>NaN</td>\n",
       "      <td>NaN</td>\n",
       "      <td>NaN</td>\n",
       "      <td>NaN</td>\n",
       "    </tr>\n",
       "  </tbody>\n",
       "</table>\n",
       "</div>"
      ],
      "text/plain": [
       "       LOAD_DATE      PM04901AA     PM04902AA      PM04903AA     PM04904AA  \\\n",
       "YEAR                                                                         \n",
       "2018  2022-06-04            NaN           NaN            NaN           NaN   \n",
       "2019  2022-06-04            NaN           NaN            NaN           NaN   \n",
       "2020  2022-06-04  486402.086278 -14748.877517  471653.208762   4700.533284   \n",
       "2021  2022-06-04  551829.119782 -46048.205689  505780.914093  20360.512843   \n",
       "2022  2022-06-04            NaN           NaN            NaN           NaN   \n",
       "\n",
       "          PM04905AA     PM04906AA      PM04907AA  \n",
       "YEAR                                              \n",
       "2018            NaN           NaN            NaN  \n",
       "2019            NaN           NaN            NaN  \n",
       "2020  476353.742045  11922.851900  488276.593945  \n",
       "2021  526141.426936  13619.526712  539760.953647  \n",
       "2022            NaN           NaN            NaN  "
      ]
     },
     "execution_count": 36,
     "metadata": {},
     "output_type": "execute_result"
    }
   ],
   "source": [
    "# > nulos por dummy table\n",
    "print(tdf.isna().sum())\n",
    "tdf.tail()"
   ]
  },
  {
   "cell_type": "code",
   "execution_count": 37,
   "metadata": {},
   "outputs": [],
   "source": [
    "# > reset index + drop nulos\n",
    "tdf = tdf.reset_index()\n",
    "tdf = tdf.dropna(subset=tdf.columns[2:])"
   ]
  },
  {
   "cell_type": "code",
   "execution_count": 38,
   "metadata": {},
   "outputs": [
    {
     "name": "stdout",
     "output_type": "stream",
     "text": [
      "YEAR         0\n",
      "LOAD_DATE    0\n",
      "PM04901AA    0\n",
      "PM04902AA    0\n",
      "PM04903AA    0\n",
      "PM04904AA    0\n",
      "PM04905AA    0\n",
      "PM04906AA    0\n",
      "PM04907AA    0\n",
      "dtype: int64\n"
     ]
    },
    {
     "data": {
      "text/html": [
       "<div>\n",
       "<style scoped>\n",
       "    .dataframe tbody tr th:only-of-type {\n",
       "        vertical-align: middle;\n",
       "    }\n",
       "\n",
       "    .dataframe tbody tr th {\n",
       "        vertical-align: top;\n",
       "    }\n",
       "\n",
       "    .dataframe thead th {\n",
       "        text-align: right;\n",
       "    }\n",
       "</style>\n",
       "<table border=\"1\" class=\"dataframe\">\n",
       "  <thead>\n",
       "    <tr style=\"text-align: right;\">\n",
       "      <th></th>\n",
       "      <th>YEAR</th>\n",
       "      <th>LOAD_DATE</th>\n",
       "      <th>PM04901AA</th>\n",
       "      <th>PM04902AA</th>\n",
       "      <th>PM04903AA</th>\n",
       "      <th>PM04904AA</th>\n",
       "      <th>PM04905AA</th>\n",
       "      <th>PM04906AA</th>\n",
       "      <th>PM04907AA</th>\n",
       "    </tr>\n",
       "  </thead>\n",
       "  <tbody>\n",
       "    <tr>\n",
       "      <th>80</th>\n",
       "      <td>2020</td>\n",
       "      <td>2022-06-04</td>\n",
       "      <td>486402.086278</td>\n",
       "      <td>-14748.877517</td>\n",
       "      <td>471653.208762</td>\n",
       "      <td>4700.533284</td>\n",
       "      <td>476353.742045</td>\n",
       "      <td>11922.851900</td>\n",
       "      <td>488276.593945</td>\n",
       "    </tr>\n",
       "    <tr>\n",
       "      <th>81</th>\n",
       "      <td>2021</td>\n",
       "      <td>2022-06-04</td>\n",
       "      <td>551829.119782</td>\n",
       "      <td>-46048.205689</td>\n",
       "      <td>505780.914093</td>\n",
       "      <td>20360.512843</td>\n",
       "      <td>526141.426936</td>\n",
       "      <td>13619.526712</td>\n",
       "      <td>539760.953647</td>\n",
       "    </tr>\n",
       "  </tbody>\n",
       "</table>\n",
       "</div>"
      ],
      "text/plain": [
       "    YEAR   LOAD_DATE      PM04901AA     PM04902AA      PM04903AA  \\\n",
       "80  2020  2022-06-04  486402.086278 -14748.877517  471653.208762   \n",
       "81  2021  2022-06-04  551829.119782 -46048.205689  505780.914093   \n",
       "\n",
       "       PM04904AA      PM04905AA     PM04906AA      PM04907AA  \n",
       "80   4700.533284  476353.742045  11922.851900  488276.593945  \n",
       "81  20360.512843  526141.426936  13619.526712  539760.953647  "
      ]
     },
     "execution_count": 38,
     "metadata": {},
     "output_type": "execute_result"
    }
   ],
   "source": [
    "# > output\n",
    "print(tdf.isna().sum())\n",
    "tdf.head()"
   ]
  },
  {
   "cell_type": "markdown",
   "metadata": {},
   "source": [
    "### 5.3. exportar datos"
   ]
  },
  {
   "cell_type": "code",
   "execution_count": 39,
   "metadata": {},
   "outputs": [],
   "source": [
    "# > variables\n",
    "export_path = f'./data/output/{curr_date}/output_{exec_uuid}.csv'\n",
    "save_folder = '/'.join(export_path.split('/')[:-1])\n",
    "sep = '|'\n",
    "encoding='iso-8859-1'"
   ]
  },
  {
   "cell_type": "code",
   "execution_count": 40,
   "metadata": {},
   "outputs": [],
   "source": [
    "# > export full table\n",
    "Path(save_folder).mkdir(parents=True, exist_ok=True)\n",
    "tdf.to_csv(export_path, sep=sep, encoding=encoding, index=False)"
   ]
  },
  {
   "cell_type": "code",
   "execution_count": 41,
   "metadata": {},
   "outputs": [
    {
     "data": {
      "text/plain": [
       "'./data/historic/2022-06-04/83be990f-7afa-43ca-b58b-754a9918b6f1'"
      ]
     },
     "execution_count": 41,
     "metadata": {},
     "output_type": "execute_result"
    }
   ],
   "source": [
    "# > move current to historic\n",
    "current_path = read_path\n",
    "historic_path = read_path.replace('current', 'historic')\n",
    "shutil.move(current_path, historic_path)"
   ]
  },
  {
   "cell_type": "code",
   "execution_count": 42,
   "metadata": {},
   "outputs": [
    {
     "data": {
      "text/html": [
       "<div>\n",
       "<style scoped>\n",
       "    .dataframe tbody tr th:only-of-type {\n",
       "        vertical-align: middle;\n",
       "    }\n",
       "\n",
       "    .dataframe tbody tr th {\n",
       "        vertical-align: top;\n",
       "    }\n",
       "\n",
       "    .dataframe thead th {\n",
       "        text-align: right;\n",
       "    }\n",
       "</style>\n",
       "<table border=\"1\" class=\"dataframe\">\n",
       "  <thead>\n",
       "    <tr style=\"text-align: right;\">\n",
       "      <th></th>\n",
       "      <th>YEAR</th>\n",
       "      <th>LOAD_DATE</th>\n",
       "      <th>PM04901AA</th>\n",
       "      <th>PM04902AA</th>\n",
       "      <th>PM04903AA</th>\n",
       "      <th>PM04904AA</th>\n",
       "      <th>PM04905AA</th>\n",
       "      <th>PM04906AA</th>\n",
       "      <th>PM04907AA</th>\n",
       "    </tr>\n",
       "  </thead>\n",
       "  <tbody>\n",
       "    <tr>\n",
       "      <th>80</th>\n",
       "      <td>2020</td>\n",
       "      <td>2022-06-04</td>\n",
       "      <td>486402.086278</td>\n",
       "      <td>-14748.877517</td>\n",
       "      <td>471653.208762</td>\n",
       "      <td>4700.533284</td>\n",
       "      <td>476353.742045</td>\n",
       "      <td>11922.851900</td>\n",
       "      <td>488276.593945</td>\n",
       "    </tr>\n",
       "    <tr>\n",
       "      <th>81</th>\n",
       "      <td>2021</td>\n",
       "      <td>2022-06-04</td>\n",
       "      <td>551829.119782</td>\n",
       "      <td>-46048.205689</td>\n",
       "      <td>505780.914093</td>\n",
       "      <td>20360.512843</td>\n",
       "      <td>526141.426936</td>\n",
       "      <td>13619.526712</td>\n",
       "      <td>539760.953647</td>\n",
       "    </tr>\n",
       "  </tbody>\n",
       "</table>\n",
       "</div>"
      ],
      "text/plain": [
       "    YEAR   LOAD_DATE      PM04901AA     PM04902AA      PM04903AA  \\\n",
       "80  2020  2022-06-04  486402.086278 -14748.877517  471653.208762   \n",
       "81  2021  2022-06-04  551829.119782 -46048.205689  505780.914093   \n",
       "\n",
       "       PM04904AA      PM04905AA     PM04906AA      PM04907AA  \n",
       "80   4700.533284  476353.742045  11922.851900  488276.593945  \n",
       "81  20360.512843  526141.426936  13619.526712  539760.953647  "
      ]
     },
     "execution_count": 42,
     "metadata": {},
     "output_type": "execute_result"
    }
   ],
   "source": [
    "tdf"
   ]
  },
  {
   "cell_type": "code",
   "execution_count": null,
   "metadata": {},
   "outputs": [],
   "source": []
  }
 ],
 "metadata": {
  "interpreter": {
   "hash": "0d24f6c4d3e56b3cfda2eb0216e9cf75edcc90598732a5fefacbf5cbcdb25b14"
  },
  "kernelspec": {
   "display_name": "Python 3 (ipykernel)",
   "language": "python",
   "name": "python3"
  },
  "language_info": {
   "codemirror_mode": {
    "name": "ipython",
    "version": 3
   },
   "file_extension": ".py",
   "mimetype": "text/x-python",
   "name": "python",
   "nbconvert_exporter": "python",
   "pygments_lexer": "ipython3",
   "version": "3.9.12"
  }
 },
 "nbformat": 4,
 "nbformat_minor": 2
}
